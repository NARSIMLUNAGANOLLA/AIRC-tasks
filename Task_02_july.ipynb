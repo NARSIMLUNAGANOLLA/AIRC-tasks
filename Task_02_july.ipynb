{
 "cells": [
  {
   "cell_type": "code",
   "execution_count": 9,
   "id": "6500b0d6",
   "metadata": {},
   "outputs": [
    {
     "name": "stdout",
     "output_type": "stream",
     "text": [
      "Starting Conversion from CSV to XML ...\n",
      "Found data:             Name  Age Occupation\n",
      "0       John Doe   29   Engineer\n",
      "1     Jane Smith   34     Doctor\n",
      "2  Emily Johnson   25    Teacher\n",
      "3  Michael Brown   42       Chef\n",
      "Successfully stored converted information to task_airc.xml\n",
      "\n",
      "Converted XML Content:\n",
      "\n",
      "<collection persons=\"Person Details\">\n",
      "<Name title=\"John Doe\">\n",
      "<Age>29</Age>\n",
      "<Occupation>Engineer</Occupation>\n",
      "</Name>\n",
      "<Name title=\"Jane Smith\">\n",
      "<Age>34</Age>\n",
      "<Occupation>Doctor</Occupation>\n",
      "</Name>\n",
      "<Name title=\"Emily Johnson\">\n",
      "<Age>25</Age>\n",
      "<Occupation>Teacher</Occupation>\n",
      "</Name>\n",
      "<Name title=\"Michael Brown\">\n",
      "<Age>42</Age>\n",
      "<Occupation>Chef</Occupation>\n",
      "</Name>\n",
      "</collection>\n"
     ]
    }
   ],
   "source": [
    "import pandas as pd\n",
    "\n",
    "def CSVtoXML(inputfile, outputfile):\n",
    "    print(\"Starting Conversion from CSV to XML ...\")\n",
    "\n",
    "    if not inputfile.lower().endswith('.csv'):\n",
    "        print('Expected a CSV file')\n",
    "        return 0\n",
    "\n",
    "    if not outputfile.lower().endswith('.xml'):\n",
    "        print('Expected an XML file')\n",
    "        return 0\n",
    "\n",
    "    try:\n",
    "        df = pd.read_csv(inputfile)\n",
    "        print(f\"Found data: {df}\")\n",
    "    except FileNotFoundError:\n",
    "        print('CSV file not found')\n",
    "        return 0\n",
    "\n",
    "    entireop = '<collection persons=\"Person Details\">\\n'\n",
    "    att = df.columns\n",
    "    rowop = ''\n",
    "    \n",
    "    for j in range(len(df)):\n",
    "        for i in range(len(att)):\n",
    "            if i == 0:\n",
    "                rowop = rowop + f'<{att[i]} title=\"{df[att[i]][j]}\">\\n'\n",
    "            elif i == len(att) - 1:\n",
    "                rowop = rowop + f'<{att[i]}>{df[att[i]][j]}</{att[i]}>\\n</{att[0]}>\\n'\n",
    "            else:\n",
    "                rowop = rowop + f'<{att[i]}>{df[att[i]][j]}</{att[i]}>\\n'\n",
    "\n",
    "    entireop = entireop + rowop + '</collection>'\n",
    "\n",
    "    with open(outputfile, 'w') as f:\n",
    "        f.write(entireop)\n",
    "    \n",
    "    print(\"Successfully stored converted information to task_airc.xml\")\n",
    "    \n",
    "    # Print the XML content to the console\n",
    "    print(\"\\nConverted XML Content:\\n\")\n",
    "    print(entireop)\n",
    "\n",
    "# Example usage\n",
    "CSVtoXML('task_airc_dataset.csv', 'task_airc.xml')\n"
   ]
  },
  {
   "cell_type": "code",
   "execution_count": 5,
   "id": "4a981c17",
   "metadata": {},
   "outputs": [
    {
     "name": "stdout",
     "output_type": "stream",
     "text": [
      "Sample CSV file created at task_airc_dataset.csv\n"
     ]
    }
   ],
   "source": []
  },
  {
   "cell_type": "code",
   "execution_count": null,
   "id": "dd952f4c",
   "metadata": {},
   "outputs": [],
   "source": []
  }
 ],
 "metadata": {
  "kernelspec": {
   "display_name": "Python 3 (ipykernel)",
   "language": "python",
   "name": "python3"
  },
  "language_info": {
   "codemirror_mode": {
    "name": "ipython",
    "version": 3
   },
   "file_extension": ".py",
   "mimetype": "text/x-python",
   "name": "python",
   "nbconvert_exporter": "python",
   "pygments_lexer": "ipython3",
   "version": "3.9.12"
  }
 },
 "nbformat": 4,
 "nbformat_minor": 5
}
